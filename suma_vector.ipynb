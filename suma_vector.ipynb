{
 "cells": [
  {
   "cell_type": "markdown",
   "metadata": {},
   "source": [
    "# Suma de vectores secuencial"
   ]
  },
  {
   "cell_type": "code",
   "execution_count": 4,
   "metadata": {},
   "outputs": [
    {
     "name": "stdout",
     "output_type": "stream",
     "text": [
      "Tiempo (Sin Paralelismo): 4.8402 segundos\n"
     ]
    }
   ],
   "source": [
    "import time\n",
    "import numpy as np\n",
    "from typing import List\n",
    "\n",
    "def sumar_vector(vector: List[int]) -> int:\n",
    "    suma = 0\n",
    "    for elemento in vector:\n",
    "        suma += elemento\n",
    "    return suma\n",
    "\n",
    "# Crear un vector de 100 millones de elementos\n",
    "vector_largo = np.random.randint(1, 100, size=100_000_000).tolist()  \n",
    "inicio = time.time()\n",
    "suma_total = sumar_vector(vector_largo)\n",
    "fin = time.time()\n",
    "print(f\"Tiempo (Sin Paralelismo): {fin - inicio:.4f} segundos\")\n"
   ]
  },
  {
   "cell_type": "markdown",
   "metadata": {},
   "source": [
    "# Suma de vectores con multiprocesamiento"
   ]
  },
  {
   "cell_type": "code",
   "execution_count": null,
   "metadata": {},
   "outputs": [
    {
     "name": "stdout",
     "output_type": "stream",
     "text": [
      "Tiempo (Con Paralelismo): 9.5013 segundos\n"
     ]
    }
   ],
   "source": [
    "import multiprocessing\n",
    "import time\n",
    "import numpy as np\n",
    "from typing import List\n",
    "\n",
    "def sumar_vector_parcial(vector_parcial: List[int]) -> int:\n",
    "    suma = 0\n",
    "    for elemento in vector_parcial:\n",
    "        suma += elemento\n",
    "    return suma\n",
    "\n",
    "def sumar_vector_paralelo(vector: List[int], num_procesos: int) -> int:\n",
    "    \n",
    "    # Dividir el vector en partes iguales\n",
    "    chunk_size = len(vector) // num_procesos\n",
    "    chunks = [\n",
    "        vector[i * chunk_size : (i + 1) * chunk_size]\n",
    "        for i in range(num_procesos)\n",
    "    ]\n",
    "\n",
    "    with multiprocessing.Pool(processes=num_procesos) as pool:\n",
    "        resultados = pool.map(sumar_vector_parcial, chunks)\n",
    "\n",
    "    # Sumar los resultados parciales\n",
    "    suma_total = sum(resultados)\n",
    "    return suma_total\n",
    "\n",
    "vector_largo = np.random.randint(1, 100, size=100_000_000).tolist()  \n",
    "num_procesos = 2\n",
    "inicio = time.time()\n",
    "suma_total = sumar_vector_paralelo(vector_largo, num_procesos)\n",
    "fin = time.time()\n",
    "print(f\"Tiempo (Con Paralelismo): {fin - inicio:.4f} segundos\")\n"
   ]
  }
 ],
 "metadata": {
  "kernelspec": {
   "display_name": "dd",
   "language": "python",
   "name": "python3"
  },
  "language_info": {
   "codemirror_mode": {
    "name": "ipython",
    "version": 3
   },
   "file_extension": ".py",
   "mimetype": "text/x-python",
   "name": "python",
   "nbconvert_exporter": "python",
   "pygments_lexer": "ipython3",
   "version": "3.12.9"
  }
 },
 "nbformat": 4,
 "nbformat_minor": 2
}

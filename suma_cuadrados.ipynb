{
 "cells": [
  {
   "cell_type": "markdown",
   "metadata": {},
   "source": [
    "# Suma de cuadrados secuencial"
   ]
  },
  {
   "cell_type": "code",
   "execution_count": 8,
   "metadata": {},
   "outputs": [
    {
     "name": "stdout",
     "output_type": "stream",
     "text": [
      "Tiempo de ejecución: 1.3079 segundos\n"
     ]
    }
   ],
   "source": [
    "import time\n",
    "from typing import List\n",
    "\n",
    "numeros: List[int] = list(range(1, 10_000_001))\n",
    "\n",
    "inicio: float = time.time()\n",
    "suma: int = 0\n",
    "for numero in numeros:\n",
    "    suma += numero ** 2\n",
    "fin: float = time.time()\n",
    "\n",
    "print(f\"Tiempo de ejecución: {fin - inicio:.4f} segundos\")"
   ]
  },
  {
   "cell_type": "markdown",
   "metadata": {},
   "source": [
    "# Suma de cuadrados con multiprocesamiento"
   ]
  },
  {
   "cell_type": "code",
   "execution_count": 9,
   "metadata": {},
   "outputs": [
    {
     "name": "stdout",
     "output_type": "stream",
     "text": [
      "Tiempo (Con Paralelismo): 1.0297 segundos\n"
     ]
    }
   ],
   "source": [
    "import multiprocessing\n",
    "import time\n",
    "from typing import List\n",
    "\n",
    "def calcular_suma_cuadrados_parcial(numeros: List[int]) -> int:\n",
    "    suma: int = 0\n",
    "    for numero in numeros:\n",
    "        suma += numero ** 2\n",
    "    return suma\n",
    "\n",
    "def calcular_suma_cuadrados_paralelo(numeros: List[int], num_procesos: int) -> int:\n",
    "    # Dividir la lista en partes iguales\n",
    "    chunk_size: int = len(numeros) // num_procesos\n",
    "    chunks: List[List[int]] = [\n",
    "        numeros[i * chunk_size : (i + 1) * chunk_size]\n",
    "        for i in range(num_procesos)\n",
    "    ]\n",
    "\n",
    "    # Crear un pool de procesos\n",
    "    with multiprocessing.Pool(processes=num_procesos) as pool:\n",
    "        # Calcular la suma de cuadrados parcial en cada proceso\n",
    "        resultados: List[int] = pool.map(calcular_suma_cuadrados_parcial, chunks)\n",
    "\n",
    "    # Sumar los resultados parciales\n",
    "    return sum(resultados)\n",
    "\n",
    "numeros: List[int] = list(range(1, 10_000_001))  # Lista de 1 a 10,000,000\n",
    "num_procesos: int = multiprocessing.cpu_count()  # Número de núcleos\n",
    "\n",
    "inicio = time.time()\n",
    "resultado = calcular_suma_cuadrados_paralelo(numeros, num_procesos)\n",
    "fin = time.time()\n",
    "print(f\"Tiempo (Con Paralelismo): {fin - inicio:.4f} segundos\")\n"
   ]
  },
  {
   "cell_type": "code",
   "execution_count": null,
   "metadata": {},
   "outputs": [],
   "source": []
  }
 ],
 "metadata": {
  "kernelspec": {
   "display_name": "dd",
   "language": "python",
   "name": "python3"
  },
  "language_info": {
   "codemirror_mode": {
    "name": "ipython",
    "version": 3
   },
   "file_extension": ".py",
   "mimetype": "text/x-python",
   "name": "python",
   "nbconvert_exporter": "python",
   "pygments_lexer": "ipython3",
   "version": "3.12.9"
  }
 },
 "nbformat": 4,
 "nbformat_minor": 2
}
